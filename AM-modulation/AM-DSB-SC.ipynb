{
 "cells": [
  {
   "cell_type": "markdown",
   "metadata": {},
   "source": [
    "## Plot an AM-DSB-SC modulated singal using an 10KHz carrier signal and an 1KHz modulating wave. \n",
    "\n",
    "## Signal Description: \n",
    "\n",
    "AM - Amplitude modulation\n",
    "DSB - Double Side Band\n",
    "SC - Supressed carrier"
   ]
  },
  {
   "cell_type": "code",
   "execution_count": null,
   "metadata": {},
   "outputs": [],
   "source": [
    "clc; clear all; close all\n",
    "\n",
    "% Defining the font size for the plots.\n",
    "set(0, 'DefaultAxesFontSize', 20);\n",
    "\n",
    "% Defining the signals amplitude. \n",
    "A_modulating = 1;\n",
    "A_carrier = 1;\n",
    "\n",
    "% Defining the signals frequency\n",
    "f_modulating = 1000;\n",
    "f_carrier = 10000;\n",
    "\n",
    "% Defining the period and frequency of sampling: \n",
    "fs = 50*f_carrier;\n",
    "Ts = 1/fs;\n",
    "T = 1/f_modulating;\n",
    "\n",
    "% Defining the sinal period. \n",
    "t_inicial = 0;\n",
    "t_final = 2;\n",
    "\n",
    "% \"t\" vector: corresponds to the time interval of the signal. \n",
    "t = [t_inicial:Ts:t_final];\n",
    "\n",
    "% Defining the signals in the time domain:\n",
    "\n",
    "modulating_signal = A_modulating*cos(2*pi*f_modulating*t);\n",
    "carrier_signal = A_carrier*cos(2*pi*f_carrier*t);\n",
    "\n",
    "% Plotting the signals in the time domain.\n",
    "figure(1)\n",
    "subplot(211)\n",
    "plot(t,modulating_signal,'b', 'LineWidth', 2)\n",
    "xlim([0 3*T])\n",
    "ylim([-1.2*A_modulating 1.2*A_modulating])\n",
    "xlabel('Time (s)')\n",
    "ylabel('Amplitude')\n",
    "title('Modulating - Time Domain')\n",
    "\n",
    "subplot(212)\n",
    "plot(t,carrier_signal, 'b', 'LineWidth', 2)\n",
    "xlim([0 3*T])\n",
    "ylim([-1.2*A_carrier 1.2*A_carrier])\n",
    "xlabel('Time (s)')\n",
    "ylabel('Amplitude')\n",
    "title('Carrier - Time Domain')"
   ]
  },
  {
   "cell_type": "markdown",
   "metadata": {},
   "source": [
    "![timedomain](./pictures/timeDomain.png)"
   ]
  },
  {
   "cell_type": "code",
   "execution_count": null,
   "metadata": {},
   "outputs": [],
   "source": [
    "% calculating the FFT step.\n",
    "f_step = 1/t_final;\n",
    "\n",
    "% calculating the frequency vector.\n",
    "f = [-fs/2:f_step:fs/2];\n",
    "\n",
    "% calculating the FFT of the modulating and carrier signals.\n",
    "modulating_F = fft(modulating_signal)/length(modulating_signal);\n",
    "modulating_F = fftshift(modulating_F);\n",
    "\n",
    "carrier_F = fft(carrier_signal)/length(carrier_signal);\n",
    "carrier_F = fftshift(carrier_F);\n",
    "\n",
    "% Plotting the signals in the frequency domain.\n",
    "figure(2)\n",
    "subplot(211)\n",
    "plot(f,abs(modulating_F), 'b', 'LineWidth', 2)\n",
    "xlim([-5*f_carrier 5*f_carrier])\n",
    "ylim([-1.2*A_modulating 1.2*A_modulating])\n",
    "title('Modulating - Frequency Domain')\n",
    "xlabel('Frequency (Hz)')\n",
    "ylabel('Amplitude')\n",
    "\n",
    "subplot(212)\n",
    "plot(f,abs(carrier_F), 'b', 'LineWidth', 2)\n",
    "xlim([-5*f_carrier 5*f_carrier])\n",
    "ylim([-0.8*A_carrier 0.8*A_carrier])\n",
    "title('Modulating - Frequency Domain')\n",
    "xlabel('Frequency (Hz)')\n",
    "ylabel('Amplitude')"
   ]
  },
  {
   "cell_type": "markdown",
   "metadata": {},
   "source": [
    "![frequencydomain](./pictures/frequencyDomain.png)"
   ]
  },
  {
   "cell_type": "code",
   "execution_count": null,
   "metadata": {},
   "outputs": [],
   "source": [
    "\n",
    "% Modulating the signals.\n",
    "% The modulated signal is the product of the modulating and carrier signals.\n",
    "final_signal = modulating_signal .* carrier_signal;\n",
    "final_F = fft(final_signal)/length(final_signal);\n",
    "final_F = fftshift(final_F);\n",
    "\n",
    "figure(3)\n",
    "subplot(211)\n",
    "plot(t,final_signal, 'b', 'LineWidth', 2)\n",
    "xlim([0 3*T])\n",
    "hold on\n",
    "\n",
    "plot(t,modulating_signal, 'r')\n",
    "xlim([0 3*T])\n",
    "ylim([-1.2*A_modulating 1.2*A_modulating])\n",
    "title('Modulated - Time Domain')\n",
    "xlabel('Time (s)')\n",
    "ylabel('Amplitude')\n",
    "\n",
    "subplot(212)\n",
    "plot(f,abs(final_F), 'b', 'LineWidth', 2)\n",
    "xlim([-5*f_carrier 5*f_carrier])\n",
    "ylim([-0.5*A_modulating 0.5*A_modulating])\n",
    "title('Modulated - Frequency Domain')\n",
    "xlabel('Frequency (Hz)')\n",
    "ylabel('Amplitude')"
   ]
  },
  {
   "cell_type": "markdown",
   "metadata": {},
   "source": [
    "![modulated](./pictures/modulated.png)"
   ]
  },
  {
   "cell_type": "code",
   "execution_count": null,
   "metadata": {},
   "outputs": [],
   "source": [
    "% Demodulating the signal.\n",
    "demulated_signal = final_signal .* carrier_signal; \n",
    "\n",
    "figure(4)\n",
    "subplot(211)\n",
    "plot(t,demulated_signal,'b', 'LineWidth', 2)\n",
    "xlim([0 3*T])\n",
    "ylim([-1.2*A_modulating 1.2*A_modulating])\n",
    "title('Demodulated - Time Domain')\n",
    "xlabel('Time (s)')\n",
    "ylabel('Amplitude')\n",
    "subplot(212)\n",
    "plot(t,modulating_signal,'b')\n",
    "hold on;\n",
    "plot(t,demulated_signal,'r', 'LineWidth', 2)\n",
    "xlim([0 3*T])\n",
    "ylim([-1.2*A_modulating 1.2*A_modulating])\n",
    "title('Demodulated - Wrap Comparison')\n"
   ]
  },
  {
   "cell_type": "markdown",
   "metadata": {},
   "source": [
    "![demodulated](./pictures/demodulated.png)"
   ]
  }
 ],
 "metadata": {
  "kernelspec": {
   "display_name": "Octave",
   "language": "octave",
   "name": "octave"
  },
  "language_info": {
   "file_extension": ".m",
   "help_links": [
    {
     "text": "GNU Octave",
     "url": "https://www.gnu.org/software/octave/support.html"
    },
    {
     "text": "Octave Kernel",
     "url": "https://github.com/Calysto/octave_kernel"
    },
    {
     "text": "MetaKernel Magics",
     "url": "https://metakernel.readthedocs.io/en/latest/source/README.html"
    }
   ],
   "mimetype": "text/x-octave",
   "name": "octave",
   "version": "6.2.0"
  }
 },
 "nbformat": 4,
 "nbformat_minor": 2
}
