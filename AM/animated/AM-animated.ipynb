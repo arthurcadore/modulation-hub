{
 "cells": [
  {
   "cell_type": "markdown",
   "metadata": {},
   "source": [
    "## Cosine AM Modulation Animated code\n",
    "\n",
    "#### This is a simple animation of the cosine signal be modulated by a AM carrier signal. The animation is created using matlab and octave"
   ]
  },
  {
   "cell_type": "code",
   "execution_count": null,
   "metadata": {},
   "outputs": [],
   "source": [
    "close all; clear all; clc;\n",
    "pkg load signal;\n",
    "\n",
    "% Defining the font size for the plots.\n",
    "set(0, 'DefaultAxesFontSize', 20);\n",
    "\n",
    "% Defining the amplitudes of the signals:\n",
    "A_modulating = 1;\n",
    "A_carrier = 1;\n",
    "\n",
    "% Defining the frequencies of the signals:\n",
    "f_modulating = 50;\n",
    "f_carrier = 1000;\n",
    "\n",
    "% Defining the sampling frequency and the sampling period:\n",
    "fs = 15*f_carrier;\n",
    "Ts = 1/fs;\n",
    "\n",
    "% Defining the period of the modulating signal:\n",
    "T = 1/f_modulating;\n",
    "\n",
    "% Defining the time interval:\n",
    "t_initial = 0;\n",
    "t_final = 2;\n",
    "\n",
    "% Defining the time vector:\n",
    "t = [t_initial:Ts:t_final];\n",
    "\n",
    "% Generating the modulating signal:\n",
    "modulating_signal = A_modulating * cos(2*pi*f_modulating*t);\n",
    "\n",
    "% Calculating the number of zeros to be added to the modulating signal:\n",
    "num_zeros = length(t) - length(modulating_signal);\n",
    "modulating_signal = [modulating_signal, zeros(1, num_zeros)];\n",
    "\n",
    "% Plotting the modulating signal:\n",
    "figure;\n",
    "\n",
    "for i = 1:length(t)\n",
    "\n",
    "    % Calculate the current interval of time\n",
    "    t_current = [t_initial:Ts:t(i)]; \n",
    "\n",
    "    % Calculate the current modulating signal\n",
    "    modulating_signal_current = modulating_signal(1:i);\n",
    "\n",
    "    % Calculate the current modulated signal\n",
    "    modulated_signal_current = (A_carrier * cos(2*pi*f_carrier*t_current)) .* modulating_signal(1:length(t_current));\n",
    "    \n",
    "    % Plot the current modulating signal\n",
    "    subplot(3,1,1);\n",
    "    plot(t(1:i), modulating_signal_current, 'b', 'LineWidth', 2);\n",
    "    grid on;\n",
    "    xlim([0 T*2]);\n",
    "    ylim([-2*A_modulating 2*A_modulating]);\n",
    "    title('Modulating Signal (Time Domain)');\n",
    "    xlabel('Time (s)');\n",
    "    ylabel('Amplitude');\n",
    "    legend('Modulating Signal');\n",
    "\n",
    "    % Plot the current carrier signal\n",
    "    subplot(3,1,2);\n",
    "    plot(t_current, A_carrier * cos(2*pi*f_carrier*t_current), 'b', 'LineWidth', 2);\n",
    "    grid on;\n",
    "    xlim([0 T*2]);\n",
    "    ylim([-2*A_carrier 2*A_carrier]);\n",
    "    title('Carrier Signal (Time Domain)');\n",
    "    xlabel('Time (s)');\n",
    "    ylabel('Amplitude');\n",
    "    legend('Carrier Signal'); \n",
    "    \n",
    "\n",
    "    % Plot the current modulated signal\n",
    "    subplot(3,1,3);\n",
    "    plot(t_current, modulated_signal_current, 'b', 'LineWidth', 2);\n",
    "    grid on;\n",
    "    hold on; \n",
    "    plot(t(1:i), modulating_signal_current, 'r', 'LineWidth', 1);\n",
    "    hold off;\n",
    "    xlim([0 T*2]);\n",
    "    ylim([-2*A_carrier 2*A_carrier]);\n",
    "    title('AM Modulated Signal (Time Domain)');\n",
    "    xlabel('Time (s)');\n",
    "    ylabel('Amplitude');\n",
    "    legend('Modulated Signal', 'Modulating Signal');\n",
    "    % Update the plot'\n",
    "    drawnow;\n",
    "  \n",
    "    % Add a small pause to the plot\n",
    "    pause(0.01);\n",
    "end\n"
   ]
  },
  {
   "cell_type": "markdown",
   "metadata": {},
   "source": [
    "![result](./pictures/result.gif)"
   ]
  }
 ],
 "metadata": {
  "kernelspec": {
   "display_name": "Octave",
   "language": "octave",
   "name": "octave"
  },
  "language_info": {
   "file_extension": ".m",
   "help_links": [
    {
     "text": "GNU Octave",
     "url": "https://www.gnu.org/software/octave/support.html"
    },
    {
     "text": "Octave Kernel",
     "url": "https://github.com/Calysto/octave_kernel"
    },
    {
     "text": "MetaKernel Magics",
     "url": "https://metakernel.readthedocs.io/en/latest/source/README.html"
    }
   ],
   "mimetype": "text/x-octave",
   "name": "octave",
   "version": "6.2.0"
  }
 },
 "nbformat": 4,
 "nbformat_minor": 2
}
