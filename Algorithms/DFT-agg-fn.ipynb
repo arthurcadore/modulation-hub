{
 "cells": [
  {
   "cell_type": "markdown",
   "metadata": {},
   "source": [
    "## DFT Aggregation function \n",
    "\n",
    "The Discrete Fourier Transform (DFT) is a mathematical technique used in signal processing to transform a time-domain signal into a frequency-domain signal. The DFT is defined by the formula:"
   ]
  },
  {
   "cell_type": "code",
   "execution_count": null,
   "metadata": {},
   "outputs": [],
   "source": [
    "function y=aggregation_algorithm(x,h,N)\n",
    "\n",
    "% Defines \"L\" as the length of the input signal \"x\" \n",
    "% and \"K\" as the length of the impulse response \"h\"\n",
    "L = length(x)\n",
    "K = length(h)\n",
    "\n",
    "% Defines \"B\" as the number of blocks needed to cover the entire signal\n",
    "B = ceil((L + K - 1)/(N - K + 1))\n",
    "\n",
    "% Zero-pads the input signal \"x\" to make it a multiple of \"N-K+1\" \n",
    "% and zero-pads the impulse response \"h\" to make it a multiple of \"N\"\n",
    "x=[zeros(1,K-1) x zeros(1,B*(N-K+1))]\n",
    "\n",
    "% defines \"hm\" as concatenation of \"h\" and zeros to make it a multiple of \"N\"\n",
    "% and stores the result in the variable \"hm\"\n",
    "hm = [h zeros(1,N-K)]\n",
    "\n",
    "% Initializes the matrix \"X\" with zeros\n",
    "for i = 1:B\n",
    "    % Stores the blocks of the input signal \"x\" in the matrix \"X\"\n",
    "    % and stores the result in the variable \"X\"\n",
    "    X(i,:) = [x(1+(i-1)*(N-(K-1)):i*N-(i-1)*(K-1))];\n",
    "end\n",
    "\n",
    "% Initializes the output signal \"y\" with zeros\n",
    "% and stores the result in the variable \"y\"\n",
    "y = cconv(X(1,:),hm,N)\n",
    "\n",
    "% Stores the blocks of the output signal \"y\" in the matrix \"y\"\n",
    "y = y(K:N)\n",
    "\n",
    "% Initializes the output signal \"y\" with zeros\n",
    "for i = 2:B\n",
    "    % defines \"y_aux\" as the circular convolution of the input signal \"x\" and the impulse response \"h\"\n",
    "    % and stores the result in the variable \"y_aux\"\n",
    "    y_aux = cconv(X(i,:),hm,N)\n",
    "\n",
    "    % Change \"y\" to be the concatenation of \"y\" and \"y_aux\"\n",
    "    y = [y y_aux(K:N)]\n",
    "end"
   ]
  }
 ],
 "metadata": {
  "kernelspec": {
   "display_name": "Octave",
   "language": "octave",
   "name": "octave"
  },
  "language_info": {
   "name": "octave"
  }
 },
 "nbformat": 4,
 "nbformat_minor": 2
}
