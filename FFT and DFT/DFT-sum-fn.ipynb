{
 "cells": [
  {
   "cell_type": "markdown",
   "metadata": {},
   "source": [
    "## DFT Sum function \n",
    "\n",
    "The Discrete Fourier Transform (DFT) is a mathematical technique used in signal processing to transform a time-domain signal into a frequency-domain signal. The DFT is defined by the formula:"
   ]
  },
  {
   "cell_type": "code",
   "execution_count": null,
   "metadata": {},
   "outputs": [],
   "source": [
    "function [yconv,yfft]=sum_algorithm(x,h,N)\n",
    "\n",
    "% create an x vector of length t_x and an h vector of length t_h\n",
    "t_x = length(x);\n",
    "t_h = length(h);\n",
    "\n",
    "% create a variable block that is the number of blocks \n",
    "% of size N that fit into t_x\n",
    "block = t_x/N;\n",
    "\n",
    "% create a matrix X of size block x N\n",
    "for i = 1:block\n",
    "\n",
    "    % fill in the ith row of X with the ith block of x\n",
    "    X(i,:) = [x(1+(i-1)*N:i*N) zeros(1,t_h-1)];\n",
    "end\n",
    "\n",
    "% create a matrix Y of size block x (N+t_h-1)\n",
    "hm = [h zeros(1,N-1)];\n",
    "\n",
    "% create a matrix Y of size block x (N+t_h-1)\n",
    "for i = 1:block\n",
    "\n",
    "    % fill in the ith row of Y with the convolution of the ith row of X with h\n",
    "    Y(i,:) = [zeros(1,(i-1)*N) cconv(X(i,:),hm,N+t_h-1) zeros(1,t_x-(i)*N)];\n",
    "    YY(i,:) = [zeros(1,(i-1)*N) ifft(fft(X(i,:)).*fft(hm)) zeros(1,t_x-(i)*N)];\n",
    "end\n",
    "\n",
    "% create a vector yconv of length (t_x+t_h-1)\n",
    "yconv = zeros(1,t_x+t_h-1);\n",
    "\n",
    "% create a vector yfft of length (t_x+t_h-1)\n",
    "yfft = zeros(1,t_x+t_h-1);\n",
    "\n",
    "\n",
    "% sum the rows of Y to get yconv\n",
    "for i = 1:block\n",
    "\n",
    "    % add the ith row of Y to yconv\n",
    "    yconv = yconv+Y(i,:);\n",
    "\n",
    "    % add the ith row of Y to yconv\n",
    "    yfft = yfft+YY(i,:);\n",
    "end"
   ]
  }
 ],
 "metadata": {
  "kernelspec": {
   "display_name": "Octave",
   "language": "octave",
   "name": "octave"
  },
  "language_info": {
   "name": "octave"
  }
 },
 "nbformat": 4,
 "nbformat_minor": 2
}
