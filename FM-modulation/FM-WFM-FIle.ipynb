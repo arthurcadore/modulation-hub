{
 "cells": [
  {
   "cell_type": "code",
   "execution_count": 1,
   "metadata": {},
   "outputs": [],
   "source": [
    "close all; clear all; clc;\n",
    "\n",
    "% Defining the signals amplitude. \n",
    "A_modulating = 1; \n",
    "A_carrier = 1; \n",
    "\n",
    "% Defining the signals frequency\n",
    "f_modulating_max = 20000;\n",
    "f_carrier = 80000;\n",
    "\n",
    "% modulator sensibility for frequency variation (Hz/volts)\n",
    "k_f = 2000000;\n",
    "\n",
    "% Delta variable, correponding to max frequency variation.\n",
    "d_f = k_f*A_modulating;\n",
    "\n",
    "% Beta variable, correspondig to percentage of frequency variation about the frequency of the modulating. \n",
    "b = d_f/f_modulating_max;\n",
    "\n",
    "% Defining the period and frequency of sampling: \n",
    "fs = 50*f_carrier;\n",
    "Ts = 1/fs;\n",
    "T = 1/f_modulating_max;\n",
    "\n",
    "% Defining the sinal period. \n",
    "t_inicial = 0;\n",
    "t_final = 2;\n",
    "\n",
    "% \"t\" vector, correspondig to the time period of analysis, on time domain. \n",
    "t = [t_inicial:Ts:t_final];\n",
    "\n",
    "%modulating_singal = A_modulating *cos(2*pi*f_modulating_max*t);\n",
    "[modulating_signal, Hs] = audioread('bison.wav');\n",
    "modulating_signal = transpose(modulating_signal);\n",
    "\n",
    "% Calculate the number of zeros to be added\n",
    "num_zeros = length(t) - length(modulating_signal);\n",
    "\n",
    "% Add the zeros to the end of the modulating_signal vector\n",
    "modulating_signal = [modulating_signal, zeros(1, num_zeros)];\n",
    "\n",
    "% Transpose the modulated signal if necessary\n",
    "modulated_signal = transpose(modulating_signal);\n",
    "\n",
    "% Creating the FM modulated signal: \n",
    "phase_argument = 2*pi*k_f*cumsum(modulating_signal)*(Ts);\n",
    "modulated_signal = A_carrier * cos(2*pi*f_carrier*t + phase_argument);\n",
    "\n",
    "% Plot signals on time domain: \n",
    "figure(1)\n",
    "subplot(311)\n",
    "plot(t, (modulating_signal),'b', 'LineWidth', 2)\n",
    "xlim([0.00054 0.00067])\n",
    "xlabel('Time (s)')\n",
    "ylabel('Amplitude')\n",
    "\n",
    "subplot(312)\n",
    "plot(t, abs(modulating_signal),'r', 'LineWidth', 2)\n",
    "xlim([0.00054 0.00067])\n",
    "xlabel('Time (s)')\n",
    "ylabel('Amplitude')\n",
    "\n",
    "subplot(313)\n",
    "plot(t, modulated_signal,'k', 'LineWidth', 2)\n",
    "xlim([0.00054 0.00067])\n",
    "xlabel('Time (s)')\n",
    "ylabel('Amplitude')\n",
    "\n",
    "% calculating the step of the frequency vector \"f\" (frequency domain); \n",
    "f_step = 1/t_final;\n",
    "\n",
    "% creating the frequency vector \"f\" (frequency domain); \n",
    "f = [-fs/2:f_step:fs/2];\n",
    "\n",
    "% calculating the FFT of the modulated signal;\n",
    "modulated_f = fft(modulated_signal)/length(modulated_signal);\n",
    "modulated_f = fftshift(modulated_f);\n"
   ]
  }
 ],
 "metadata": {
  "kernelspec": {
   "display_name": "Octave",
   "language": "octave",
   "name": "octave"
  },
  "language_info": {
   "file_extension": ".m",
   "help_links": [
    {
     "text": "GNU Octave",
     "url": "https://www.gnu.org/software/octave/support.html"
    },
    {
     "text": "Octave Kernel",
     "url": "https://github.com/Calysto/octave_kernel"
    },
    {
     "text": "MetaKernel Magics",
     "url": "https://metakernel.readthedocs.io/en/latest/source/README.html"
    }
   ],
   "mimetype": "text/x-octave",
   "name": "octave",
   "version": "6.2.0"
  }
 },
 "nbformat": 4,
 "nbformat_minor": 2
}
