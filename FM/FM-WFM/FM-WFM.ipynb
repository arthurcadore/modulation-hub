{
 "cells": [
  {
   "cell_type": "markdown",
   "metadata": {},
   "source": [
    "# Plot an FM-WFM modulated signal using an 150KHz carrier signal and an 10KHz modulating sine wave. \n",
    "\n",
    "## Signal Description: \n",
    "\n",
    " FM- Frequency modulation\n",
    " \n",
    " WFM- Wideband Frequency Modulation\n"
   ]
  },
  {
   "cell_type": "code",
   "execution_count": null,
   "metadata": {},
   "outputs": [],
   "source": [
    "close all; clear all; clc;\n",
    "\n",
    "% Defining the font size for the plots.\n",
    "set(0, 'DefaultAxesFontSize', 20);\n",
    "\n",
    "% Defining the signals amplitude. \n",
    "A_modulating = 1; \n",
    "A_carrier = 1; \n",
    "\n",
    "% Defining the signals frequency\n",
    "f_modulating = 10000;\n",
    "f_carrier = 150000;\n",
    "\n",
    "% modulator sensibility for frequency variation (Hz/volts)\n",
    "k_f = 150000;\n",
    "\n",
    "% Delta variable, correponding to max frequency variation.\n",
    "d_f = k_f*A_modulating;\n",
    "\n",
    "% Beta variable, correspondig to percentage of frequency variation about the frequency of the modulating. \n",
    "b = d_f/f_modulating;\n",
    "\n",
    "% Defining the period and frequency of sampling: \n",
    "fs = 50*f_carrier;\n",
    "Ts = 1/fs;\n",
    "T = 1/f_modulating;\n",
    "\n",
    "% Defining the sinal period. \n",
    "t_inicial = 0;\n",
    "t_final = 2;\n",
    "\n",
    "% \"t\" vector, correspondig to the time period of analysis, on time domain. \n",
    "t = [t_inicial:Ts:t_final];\n",
    "\n",
    "% Defining carrier and modulating signals (for plot purpuses).\n",
    "carrier_signal = A_carrier * cos(2*pi*f_carrier*t);\n",
    "modulating_singal = A_modulating *cos(2*pi*f_modulating*t);\n",
    "\n",
    "% Creating the FM modulated signal: \n",
    "phase_argument = 2*pi*k_f*cumsum(modulating_singal)*Ts;\n",
    "modulated_signal = A_carrier * cos(2*pi*f_carrier*t + phase_argument);\n",
    "\n",
    "% Plot signals on time domain: \n",
    "figure(1)\n",
    "subplot(311)\n",
    "plot(t, modulating_singal, 'b', 'LineWidth', 2)\n",
    "xlim([0 2*T])\n",
    "xlabel('Time (s)')\n",
    "ylabel('Amplitude')\n",
    "title('Modulating Signal - Time Domain')\n",
    "\n",
    "subplot(312)\n",
    "plot(t, carrier_signal,'b', 'LineWidth', 2)\n",
    "xlim([0 2*T])\n",
    "xlabel('Time (s)')\n",
    "ylabel('Amplitude')\n",
    "title('Carrier Signal (Time Domain)')\n",
    "\n",
    "subplot(313)\n",
    "plot(t, modulated_signal, 'b', 'LineWidth', 2)\n",
    "xlim([0 2*T])\n",
    "xlabel('Time (s)')\n",
    "ylabel('Amplitude')\n",
    "title('FM Modulated Signal (Time Domain)')\n"
   ]
  },
  {
   "cell_type": "markdown",
   "metadata": {},
   "source": [
    "![timedomain](./pictures/timedomain.png)"
   ]
  },
  {
   "cell_type": "code",
   "execution_count": null,
   "metadata": {},
   "outputs": [],
   "source": [
    "% calculating the step of the frequency vector \"f\" (frequency domain); \n",
    "f_step = 1/t_final;\n",
    "\n",
    "% creating the frequency vector \"f\" (frequency domain); \n",
    "f = [-fs/2:f_step:fs/2];\n",
    "\n",
    "% calculating the FFT of the modulated signal;\n",
    "modulated_f = fft(modulated_signal)/length(modulated_signal);\n",
    "modulated_f = fftshift(modulated_f);\n",
    "\n",
    "% Plotting the modulated signal on frequency domain;\n",
    "figure(2)\n",
    "subplot(211)\n",
    "plot(f,modulated_f, 'b', 'LineWidth', 2)\n",
    "xlim([-f_carrier*3 f_carrier*3])\n",
    "xlabel('Time (s)')\n",
    "ylabel('Magnitude')\n",
    "title('FM Modulated Signal - Frequency Domain')\n",
    "\n",
    "subplot(212)\n",
    "plot(f,abs(modulated_f), 'b', 'LineWidth', 2)\n",
    "xlim([-f_carrier*3 f_carrier*3])\n",
    "xlabel('Frequency (Hz)')\n",
    "ylabel('Magnitude')\n",
    "title('FM Modulated Signal - Frequency Domain (Absolute)')"
   ]
  },
  {
   "cell_type": "markdown",
   "metadata": {},
   "source": [
    "![frequencydomain](./pictures/frequencydomain.png)"
   ]
  },
  {
   "cell_type": "code",
   "execution_count": 3,
   "metadata": {},
   "outputs": [
    {
     "name": "stdout",
     "output_type": "stream",
     "text": [
      "B_t = 170000\n"
     ]
    }
   ],
   "source": [
    "%Calculating the total bandwidth of the FM modulated signal.\n",
    "\n",
    "B_t = 2*d_f + 2*f_modulating"
   ]
  }
 ],
 "metadata": {
  "kernelspec": {
   "display_name": "Octave",
   "language": "octave",
   "name": "octave"
  },
  "language_info": {
   "file_extension": ".m",
   "help_links": [
    {
     "text": "GNU Octave",
     "url": "https://www.gnu.org/software/octave/support.html"
    },
    {
     "text": "Octave Kernel",
     "url": "https://github.com/Calysto/octave_kernel"
    },
    {
     "text": "MetaKernel Magics",
     "url": "https://metakernel.readthedocs.io/en/latest/source/README.html"
    }
   ],
   "mimetype": "text/x-octave",
   "name": "octave",
   "version": "6.2.0"
  }
 },
 "nbformat": 4,
 "nbformat_minor": 2
}
