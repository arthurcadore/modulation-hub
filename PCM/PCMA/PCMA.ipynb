{
 "cells": [
  {
   "cell_type": "markdown",
   "metadata": {},
   "source": []
  },
  {
   "cell_type": "code",
   "execution_count": null,
   "metadata": {},
   "outputs": [],
   "source": [
    "close all; clear all; clc;\n",
    "pkg load signal;\n",
    "\n",
    "% Change the font size in the plots to 15\n",
    "set(0, 'DefaultAxesFontSize', 20);\n",
    "\n",
    "% Defining the base signal amplitude.\n",
    "A_signal = 1;\n",
    "\n",
    "% Defining the frequency for the base signal\n",
    "f_signal = 80000;\n",
    "\n",
    "% Defining the period and frequency of sampling:\n",
    "fs = 40*f_signal;\n",
    "Ts = 1/fs;\n",
    "T = 1/f_signal;\n",
    "\n",
    "% Defining the signal period.\n",
    "t_initial = 0;\n",
    "t_final = 0.01;\n",
    "\n",
    "% \"t\" vector, corresponding to the time period of analysis, in the time domain.\n",
    "t = [t_initial:Ts:t_final];\n",
    "\n",
    "signal = A_signal*cos(2*pi*f_signal*t);\n",
    "\n",
    "% Creating an impulse train with a period of 2T\n",
    "impulse_train = zeros(size(t));\n",
    "impulse_train(mod(t, 1/fs) == 0) = 1;\n",
    "\n",
    "signal_sampled = signal .* impulse_train;\n",
    "\n",
    "figure(1)\n",
    "subplot(311)\n",
    "plot(t,signal, 'LineWidth', 2)\n",
    "grid on;\n",
    "xlim([0 3*T])\n",
    "title('Sine Wave Signal - Time Domain')\n",
    "\n",
    "subplot(312)\n",
    "stem(t,impulse_train, 'MarkerFaceColor', 'b')\n",
    "grid on;\n",
    "xlim([0 3*T])\n",
    "title('Impulse Train - Time Domain')\n",
    "\n",
    "subplot(313)\n",
    "stem(t,signal_sampled, 'LineStyle','none', 'MarkerFaceColor', 'b')\n",
    "grid on;\n",
    "xlim([0 3*T])\n",
    "title('Sampled Sine Wave Signal - Time Domain')"
   ]
  },
  {
   "cell_type": "markdown",
   "metadata": {},
   "source": [
    "![timeDomain](./pictures/timeDomain.png)"
   ]
  },
  {
   "cell_type": "code",
   "execution_count": null,
   "metadata": {},
   "outputs": [],
   "source": [
    "% Desired number of levels (excluding 0)\n",
    "n=2;\n",
    "num_levels = 2^n;\n",
    "\n",
    "% Generating quantization levels automatically\n",
    "levels = linspace(-1, 1, num_levels+1);\n",
    "levels = levels(2:end); % Remove the first element (zero)\n",
    "\n",
    "% Quantization\n",
    "quantized_signal = zeros(size(signal_sampled));\n",
    "for i = 1:length(signal_sampled)\n",
    "    for j = 1:length(levels)\n",
    "        if signal_sampled(i) <= levels(j)\n",
    "            quantized_signal(i) = levels(j);\n",
    "            break;\n",
    "        end\n",
    "    end\n",
    "end\n",
    "\n",
    "figure(2)\n",
    "subplot(211)\n",
    "stem(t,signal_sampled, 'LineStyle','none', 'MarkerFaceColor', 'b')\n",
    "grid on;\n",
    "xlim([0 3*T])\n",
    "title('Sampled Sine Wave Signal - Time Domain')\n",
    "\n",
    "subplot(212)\n",
    "stem(t,quantized_signal, 'LineStyle','none', 'MarkerFaceColor', 'b')\n",
    "xlim([0 3*T])\n",
    "hold on; \n",
    "plot(t,signal, 'r')\n",
    "xlim([0 3*T])\n",
    "grid on;\n",
    "title('Sampled and Quantized Sine Wave Signal - Time Domain')\n"
   ]
  },
  {
   "cell_type": "markdown",
   "metadata": {},
   "source": [
    "![coded](./pictures/coded.png)"
   ]
  },
  {
   "cell_type": "code",
   "execution_count": null,
   "metadata": {},
   "outputs": [],
   "source": [
    "% Converting quantized values to binary:\n",
    "binary_signal = dec2bin((quantized_signal + 1) * (2^(n-1)), n);\n",
    "\n",
    "% Defining amplitudes for each binary value\n",
    "amplitudes = linspace(-1, 1, 2^n + 1);\n",
    "\n",
    "% Mapping binary values to amplitudes\n",
    "pcm_signal = zeros(size(binary_signal, 1), 1);\n",
    "for i = 1:size(binary_signal, 1)\n",
    "    bin_str = binary_signal(i, :);\n",
    "    bin_value = bin2dec(bin_str);\n",
    "    pcm_signal(i) = amplitudes(bin_value + 1); % Add 1 to compensate for MATLAB's 0-based indexing\n",
    "end\n",
    "\n",
    "% Defining the time vector for the PCM signal\n",
    "t_pcm = [t_initial:Ts:t_final];\n",
    "\n",
    "figure(3)\n",
    "subplot(211)\n",
    "stem(t,quantized_signal, 'LineStyle','none', 'MarkerFaceColor', 'b')\n",
    "xlim([0 3*T])\n",
    "hold on; \n",
    "plot(t,signal, 'r')\n",
    "xlim([0 3*T])\n",
    "grid on;\n",
    "title('Sampled and Quantized Sine Wave Signal - Time Domain')\n",
    "\n",
    "subplot(212)\n",
    "stairs(t_pcm, pcm_signal, 'b', 'LineWidth', 2);\n",
    "xlim([0 3*T])\n",
    "xlabel('Time (s)');\n",
    "ylabel('Amplitude');\n",
    "title('PCM Signal with Multilevel Amplitude - Time Domain');\n",
    "grid on;"
   ]
  },
  {
   "cell_type": "markdown",
   "metadata": {},
   "source": [
    "![pcma](./pictures/pcma.png)"
   ]
  }
 ],
 "metadata": {
  "language_info": {
   "name": "python"
  }
 },
 "nbformat": 4,
 "nbformat_minor": 2
}
