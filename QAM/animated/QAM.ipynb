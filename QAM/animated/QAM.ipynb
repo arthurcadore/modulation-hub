{
 "cells": [
  {
   "cell_type": "markdown",
   "metadata": {},
   "source": [
    "# QAM - Quadrature Amplitude Modulation\n",
    "\n",
    "## The script below adds a QAM modulated signal (animated), that variable the SNR value of the signal, and the constellation diagram of the signal."
   ]
  },
  {
   "cell_type": "code",
   "execution_count": null,
   "metadata": {
    "vscode": {
     "languageId": "plaintext"
    }
   },
   "outputs": [],
   "source": [
    "close all; clear all; clc; \n",
    "pkg load signal;\n",
    "\n",
    "% Number of bits to transmit\n",
    "N = 512; \n",
    "\n",
    "% QAM modulation level\n",
    "QAM_level = 16; \n",
    "\n",
    "% SNR step (for annimation)\n",
    "snr_step=1; \n",
    "\n",
    "% Min/Max SNR values\n",
    "snr_mim=0;\n",
    "snr_lim=50;\n",
    "\n",
    "% QAM modulation level\n",
    "tx_bits = randi([0 1], N, 1);\n",
    "\n",
    "% Calculate bits per symbol\n",
    "bits_per_symbol = log2(QAM_level); \n",
    "\n",
    "% Convert bits to symbols\n",
    "xsym = bi2de(reshape(tx_bits, bits_per_symbol, length(tx_bits)/bits_per_symbol).', 'left-msb'); \n",
    "\n",
    "% Modulate symbols to QAM signal\n",
    "Tx_x = qammod(xsym, QAM_level);\n",
    "\n",
    "% Create a new figure window\n",
    "figure(1); \n",
    "for SNR = snr_mim:snr_step/2:snr_lim % Iterate over SNR values\n",
    "  \n",
    "    % Add AWGN (Additive White Gaussian Noise) to the transmitted signal\n",
    "    % This noise is added to simulate a real communication channel\n",
    "    Rx_x = awgn(Tx_x, SNR); \n",
    "\n",
    "    % Plot transmitted QAM signal\n",
    "    subplot(1,2,1); \n",
    "    plot(real(Tx_x), imag(Tx_x), 'kx', 'MarkerFaceColor', 'r', 'LineWidth', 2);\n",
    "    grid on;\n",
    "    axis([-QAM_level/2 QAM_level/2 -QAM_level/2 QAM_level/2]);\n",
    "    title(sprintf('Transmitted QAM with %d levels', QAM_level));\n",
    "\n",
    "    % Draw lines to divide the QAM signal area into squares\n",
    "    hold on;\n",
    "    for i = -QAM_level/2+2:2:QAM_level/2-2\n",
    "        plot([-QAM_level/4, QAM_level/4], [i, i], 'b', 'LineWidth', 2); \n",
    "        plot([i, i], [-QAM_level/4, QAM_level/4], 'b', 'LineWidth', 2);\n",
    "    end\n",
    "    hold off;\n",
    "\n",
    "    subplot(1,2,2); \n",
    "    plot(real(Rx_x), imag(Rx_x), 'ro', 'MarkerFaceColor', 'r');\n",
    "    grid on;\n",
    "    axis([-QAM_level/2 QAM_level/2 -QAM_level/2 QAM_level/2]);\n",
    "    title(sprintf('Received QAM, SNR = %d dB', SNR));\n",
    "    hold on;\n",
    "        plot(real(Tx_x), imag(Tx_x), 'kx', 'MarkerFaceColor', 'r', 'LineWidth', 2);\n",
    "    hold off;\n",
    "\n",
    "    % Draw lines to divide the received QAM signal area into squares\n",
    "    hold on;\n",
    "    for i = -QAM_level/2+2:2:QAM_level/2-2\n",
    "        plot([-QAM_level/4, QAM_level/4], [i, i], 'b', 'LineWidth', 2); \n",
    "        plot([i, i], [-QAM_level/4, QAM_level/4], 'b', 'LineWidth', 2);\n",
    "    end\n",
    "    hold off;\n",
    "\n",
    "    pause(1); % Pause for 1 second\n",
    "end"
   ]
  },
  {
   "cell_type": "markdown",
   "metadata": {},
   "source": [
    "![animated](./pictures/animated.gif)z"
   ]
  }
 ],
 "metadata": {
  "language_info": {
   "name": "python"
  }
 },
 "nbformat": 4,
 "nbformat_minor": 2
}
